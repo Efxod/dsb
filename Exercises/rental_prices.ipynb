{
  "nbformat": 4,
  "nbformat_minor": 0,
  "metadata": {
    "colab": {
      "name": "rental_prices.ipynb",
      "version": "0.3.2",
      "provenance": [],
      "collapsed_sections": []
    },
    "kernelspec": {
      "name": "python3",
      "display_name": "Python 3"
    }
  },
  "cells": [
    {
      "metadata": {
        "id": "0Si-K-5ML_H6",
        "colab_type": "text"
      },
      "cell_type": "markdown",
      "source": [
        "# Rental Prices"
      ]
    },
    {
      "metadata": {
        "id": "LNckf7_2MAMy",
        "colab_type": "text"
      },
      "cell_type": "markdown",
      "source": [
        "## Package Import and Configuration"
      ]
    },
    {
      "metadata": {
        "id": "zacrUYQ0ZLLw",
        "colab_type": "code",
        "colab": {}
      },
      "cell_type": "code",
      "source": [
        "import numpy as np\n",
        "import pandas as pd\n",
        "from sklearn.linear_model import SGDRegressor\n",
        "from sklearn.metrics import mean_squared_error\n",
        "from sklearn.model_selection import KFold, train_test_split"
      ],
      "execution_count": 0,
      "outputs": []
    },
    {
      "metadata": {
        "id": "OlP8JOGNMBVX",
        "colab_type": "text"
      },
      "cell_type": "markdown",
      "source": [
        "## Data Import and Preprocessing"
      ]
    },
    {
      "metadata": {
        "id": "ZV2amTSQanL6",
        "colab_type": "code",
        "colab": {}
      },
      "cell_type": "code",
      "source": [
        "data = pd.read_csv('https://raw.githubusercontent.com/saschaschworm/dsb/master/Data%20Sets/Demos%20and%20Exercises/rental_prices/rental_prices.csv', sep=',')"
      ],
      "execution_count": 0,
      "outputs": []
    },
    {
      "metadata": {
        "id": "19O9XVlbMC57",
        "colab_type": "text"
      },
      "cell_type": "markdown",
      "source": [
        "### Data Preview"
      ]
    },
    {
      "metadata": {
        "id": "ieprRtJ2MDkP",
        "colab_type": "code",
        "colab": {
          "base_uri": "https://localhost:8080/",
          "height": 204
        },
        "outputId": "4d69ac58-cab9-4def-c99d-caab94496233"
      },
      "cell_type": "code",
      "source": [
        "data.head()"
      ],
      "execution_count": 3,
      "outputs": [
        {
          "output_type": "execute_result",
          "data": {
            "text/html": [
              "<div>\n",
              "<style scoped>\n",
              "    .dataframe tbody tr th:only-of-type {\n",
              "        vertical-align: middle;\n",
              "    }\n",
              "\n",
              "    .dataframe tbody tr th {\n",
              "        vertical-align: top;\n",
              "    }\n",
              "\n",
              "    .dataframe thead th {\n",
              "        text-align: right;\n",
              "    }\n",
              "</style>\n",
              "<table border=\"1\" class=\"dataframe\">\n",
              "  <thead>\n",
              "    <tr style=\"text-align: right;\">\n",
              "      <th></th>\n",
              "      <th>living_space</th>\n",
              "      <th>rental_price</th>\n",
              "    </tr>\n",
              "  </thead>\n",
              "  <tbody>\n",
              "    <tr>\n",
              "      <th>0</th>\n",
              "      <td>40.38</td>\n",
              "      <td>551.73</td>\n",
              "    </tr>\n",
              "    <tr>\n",
              "      <th>1</th>\n",
              "      <td>40.40</td>\n",
              "      <td>528.99</td>\n",
              "    </tr>\n",
              "    <tr>\n",
              "      <th>2</th>\n",
              "      <td>41.42</td>\n",
              "      <td>529.86</td>\n",
              "    </tr>\n",
              "    <tr>\n",
              "      <th>3</th>\n",
              "      <td>41.74</td>\n",
              "      <td>530.01</td>\n",
              "    </tr>\n",
              "    <tr>\n",
              "      <th>4</th>\n",
              "      <td>42.37</td>\n",
              "      <td>533.01</td>\n",
              "    </tr>\n",
              "  </tbody>\n",
              "</table>\n",
              "</div>"
            ],
            "text/plain": [
              "   living_space  rental_price\n",
              "0         40.38        551.73\n",
              "1         40.40        528.99\n",
              "2         41.42        529.86\n",
              "3         41.74        530.01\n",
              "4         42.37        533.01"
            ]
          },
          "metadata": {
            "tags": []
          },
          "execution_count": 3
        }
      ]
    },
    {
      "metadata": {
        "id": "hkZDfXjxMTFm",
        "colab_type": "text"
      },
      "cell_type": "markdown",
      "source": [
        "### Data Preprocessing\n",
        "\n",
        "There is not data preprocessing step in this example. The only thing we do here is to transform the features to a matrix $X$ and the target variable to a vector $y$."
      ]
    },
    {
      "metadata": {
        "colab_type": "code",
        "id": "jbwywtdCaMVp",
        "colab": {}
      },
      "cell_type": "code",
      "source": [
        "X, y = data[['living_space']].values, data['rental_price'].values"
      ],
      "execution_count": 0,
      "outputs": []
    },
    {
      "metadata": {
        "id": "yKmXAbKaMW89",
        "colab_type": "text"
      },
      "cell_type": "markdown",
      "source": [
        "## Modelling"
      ]
    },
    {
      "metadata": {
        "id": "wNt7XHy8Msqt",
        "colab_type": "text"
      },
      "cell_type": "markdown",
      "source": [
        "### Training with Linear Regression with Stochastic Gradient Descent"
      ]
    },
    {
      "metadata": {
        "id": "68XSwVFBafxP",
        "colab_type": "code",
        "outputId": "0f11b9dc-b32b-4888-a42c-6a7b03ab01ad",
        "colab": {
          "base_uri": "https://localhost:8080/",
          "height": 102
        }
      },
      "cell_type": "code",
      "source": [
        "# Set Seed for \"Deterministic Randomness\".\n",
        "np.random.seed(1909)\n",
        "\n",
        "# Initialize the Linear Regression Model.\n",
        "linear_model = SGDRegressor(max_iter=1000, eta0=0.0001)\n",
        "\n",
        "# Perform the Learning.\n",
        "linear_model.fit(X, y)"
      ],
      "execution_count": 5,
      "outputs": [
        {
          "output_type": "execute_result",
          "data": {
            "text/plain": [
              "SGDRegressor(alpha=0.0001, average=False, epsilon=0.1, eta0=0.0001,\n",
              "       fit_intercept=True, l1_ratio=0.15, learning_rate='invscaling',\n",
              "       loss='squared_loss', max_iter=1000, n_iter=None, penalty='l2',\n",
              "       power_t=0.25, random_state=None, shuffle=True, tol=None, verbose=0,\n",
              "       warm_start=False)"
            ]
          },
          "metadata": {
            "tags": []
          },
          "execution_count": 5
        }
      ]
    },
    {
      "metadata": {
        "id": "AhRO2XssM4xj",
        "colab_type": "text"
      },
      "cell_type": "markdown",
      "source": [
        "### Prediction"
      ]
    },
    {
      "metadata": {
        "id": "go_FxJctd4PZ",
        "colab_type": "code",
        "colab": {}
      },
      "cell_type": "code",
      "source": [
        "y_pred = linear_model.predict([[44]])"
      ],
      "execution_count": 0,
      "outputs": []
    },
    {
      "metadata": {
        "id": "7y9fT77FM_Rd",
        "colab_type": "text"
      },
      "cell_type": "markdown",
      "source": [
        "### Result"
      ]
    },
    {
      "metadata": {
        "id": "h1R1tHpli4RH",
        "colab_type": "code",
        "outputId": "ff9ee01c-1c85-4d92-91fb-df4e5a20e702",
        "colab": {
          "base_uri": "https://localhost:8080/",
          "height": 68
        }
      },
      "cell_type": "code",
      "source": [
        "print(f'Rental Price Prediction for a 44sqm Appartment: {y_pred[0]:.2f}$')\n",
        "print(f'Value for Parameter Theta 0: {linear_model.intercept_[0]:.2f}')\n",
        "print(f'Value for Parameter Theta 1: {linear_model.coef_[0]:.2f}')"
      ],
      "execution_count": 7,
      "outputs": [
        {
          "output_type": "stream",
          "text": [
            "Rental Price Prediction for a 44sqm Appartment: 481.46$\n",
            "Value for Parameter Theta 0: 0.90\n",
            "Value for Parameter Theta 1: 10.92\n"
          ],
          "name": "stdout"
        }
      ]
    },
    {
      "metadata": {
        "id": "88uNxx_qNpSX",
        "colab_type": "text"
      },
      "cell_type": "markdown",
      "source": [
        "## Evaluation"
      ]
    },
    {
      "metadata": {
        "id": "fc_INDfgNrbI",
        "colab_type": "text"
      },
      "cell_type": "markdown",
      "source": [
        "### Holdout Method"
      ]
    },
    {
      "metadata": {
        "id": "oK_nlPqMN_Df",
        "colab_type": "text"
      },
      "cell_type": "markdown",
      "source": [
        "#### Training on Training Set with Linear Regression with Stochastic Gradient Descent"
      ]
    },
    {
      "metadata": {
        "id": "sc5CpppjN_3e",
        "colab_type": "code",
        "colab": {
          "base_uri": "https://localhost:8080/",
          "height": 102
        },
        "outputId": "d59d990f-5146-452c-a511-e0d4570ae287"
      },
      "cell_type": "code",
      "source": [
        "# Set Seed for \"Deterministic Randomness\".\n",
        "np.random.seed(1909)\n",
        "\n",
        "# Train-Test-Split with 75% for Training and 25% for Testing\n",
        "X_train, X_test, y_train, y_test = train_test_split(X, y, test_size=0.25)\n",
        "\n",
        "# Perform the Learning\n",
        "linear_model.fit(X_train, y_train)"
      ],
      "execution_count": 8,
      "outputs": [
        {
          "output_type": "execute_result",
          "data": {
            "text/plain": [
              "SGDRegressor(alpha=0.0001, average=False, epsilon=0.1, eta0=0.0001,\n",
              "       fit_intercept=True, l1_ratio=0.15, learning_rate='invscaling',\n",
              "       loss='squared_loss', max_iter=1000, n_iter=None, penalty='l2',\n",
              "       power_t=0.25, random_state=None, shuffle=True, tol=None, verbose=0,\n",
              "       warm_start=False)"
            ]
          },
          "metadata": {
            "tags": []
          },
          "execution_count": 8
        }
      ]
    },
    {
      "metadata": {
        "id": "L7bhi0NyOACX",
        "colab_type": "text"
      },
      "cell_type": "markdown",
      "source": [
        "#### Prediction on Test Set"
      ]
    },
    {
      "metadata": {
        "id": "185PqqCcOAhq",
        "colab_type": "code",
        "colab": {}
      },
      "cell_type": "code",
      "source": [
        "# Perform the Prediction on the Test-Set-Features.\n",
        "y_pred = linear_model.predict(X_test)"
      ],
      "execution_count": 0,
      "outputs": []
    },
    {
      "metadata": {
        "id": "Xj4_G3uQOArt",
        "colab_type": "text"
      },
      "cell_type": "markdown",
      "source": [
        "#### Result"
      ]
    },
    {
      "metadata": {
        "id": "6zxO7cnuOA2G",
        "colab_type": "code",
        "colab": {
          "base_uri": "https://localhost:8080/",
          "height": 34
        },
        "outputId": "8a6c2b3d-e549-4ab2-a161-175581d07b29"
      },
      "cell_type": "code",
      "source": [
        "# Calculating the Root Mean Squared Error.\n",
        "rmse = np.sqrt(mean_squared_error(y_test, y_pred))\n",
        "\n",
        "print(f'RMSE: {rmse:.2f}')"
      ],
      "execution_count": 10,
      "outputs": [
        {
          "output_type": "stream",
          "text": [
            "RMSE: 36.49\n"
          ],
          "name": "stdout"
        }
      ]
    },
    {
      "metadata": {
        "id": "cbGl3kNDNuDw",
        "colab_type": "text"
      },
      "cell_type": "markdown",
      "source": [
        "### 10-Fold-Cross-Validation"
      ]
    },
    {
      "metadata": {
        "id": "LFUw24RZOjrA",
        "colab_type": "text"
      },
      "cell_type": "markdown",
      "source": [
        "#### Algorithm"
      ]
    },
    {
      "metadata": {
        "id": "TP2tkouLOj2y",
        "colab_type": "code",
        "colab": {}
      },
      "cell_type": "code",
      "source": [
        "# Set seed for \"deterministic randomness\".\n",
        "np.random.seed(1909)\n",
        "\n",
        "# Initialize 10-Fold-Cross-Validation.\n",
        "k_fold = KFold(n_splits=10)\n",
        "\n",
        "# Empty lists for persisting the performances measures calculated in each iteration. \n",
        "rmses = []\n",
        "\n",
        "for train_idx, test_idx in k_fold.split(X):\n",
        "  # Split dataset into a train and test set.\n",
        "  X_train, X_test = X[train_idx], X[test_idx]\n",
        "  y_train, y_test = y[train_idx], y[test_idx]\n",
        "  \n",
        "  # Run the logistic regression on the current training set.\n",
        "  linear_model.fit(X_train, y_train)\n",
        "  \n",
        "  # Perform the Prediction on the Test-Set-Features.\n",
        "  y_pred = linear_model.predict(X_test)\n",
        "  \n",
        "  # Calculate the performance measures on the current test set.\n",
        "  rmse = np.sqrt(mean_squared_error(y_test, y_pred))\n",
        "  \n",
        "  # Append to performances measures to lists.\n",
        "  rmses.append(rmse)"
      ],
      "execution_count": 0,
      "outputs": []
    },
    {
      "metadata": {
        "id": "L_PSKQSjOj-n",
        "colab_type": "text"
      },
      "cell_type": "markdown",
      "source": [
        "#### Result"
      ]
    },
    {
      "metadata": {
        "id": "U99GGVBfOkGO",
        "colab_type": "code",
        "colab": {
          "base_uri": "https://localhost:8080/",
          "height": 34
        },
        "outputId": "77ce02fb-77bc-4ab1-8f31-97847d0cc57f"
      },
      "cell_type": "code",
      "source": [
        "print(f'Average RMSE: {np.mean(rmses):.2f}')"
      ],
      "execution_count": 12,
      "outputs": [
        {
          "output_type": "stream",
          "text": [
            "Average RMSE: 44.90\n"
          ],
          "name": "stdout"
        }
      ]
    }
  ]
}