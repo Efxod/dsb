{
  "nbformat": 4,
  "nbformat_minor": 0,
  "metadata": {
    "colab": {
      "name": "rental_prices.ipynb",
      "version": "0.3.2",
      "provenance": [],
      "collapsed_sections": []
    },
    "kernelspec": {
      "name": "python3",
      "display_name": "Python 3"
    }
  },
  "cells": [
    {
      "metadata": {
        "id": "zacrUYQ0ZLLw",
        "colab_type": "code",
        "colab": {}
      },
      "cell_type": "code",
      "source": [
        "import pandas as pd\n",
        "import numpy as np\n",
        "from sklearn.linear_model import SGDRegressor\n",
        "from sklearn.metrics import mean_squared_error\n",
        "from sklearn.model_selection import KFold"
      ],
      "execution_count": 0,
      "outputs": []
    },
    {
      "metadata": {
        "id": "ZV2amTSQanL6",
        "colab_type": "code",
        "colab": {}
      },
      "cell_type": "code",
      "source": [
        "data = pd.read_csv('https://raw.githubusercontent.com/saschaschworm/dsb/master/Data%20Sets/Demos%20and%20Exercises/rental_prices/rental_prices.csv', sep=',')"
      ],
      "execution_count": 0,
      "outputs": []
    },
    {
      "metadata": {
        "colab_type": "code",
        "id": "jbwywtdCaMVp",
        "colab": {}
      },
      "cell_type": "code",
      "source": [
        "X, y = data['living_space'], data['rental_price']\n",
        "X, y = X[:, np.newaxis], y.values"
      ],
      "execution_count": 0,
      "outputs": []
    },
    {
      "metadata": {
        "id": "68XSwVFBafxP",
        "colab_type": "code",
        "colab": {
          "base_uri": "https://localhost:8080/",
          "height": 102
        },
        "outputId": "fc7b03e2-6836-4589-8a4b-247c6531d022"
      },
      "cell_type": "code",
      "source": [
        "np.random.seed(1909)\n",
        "lineares_modell = SGDRegressor(max_iter=1000, eta0=0.0001)\n",
        "lineares_modell.fit(X, y)"
      ],
      "execution_count": 4,
      "outputs": [
        {
          "output_type": "execute_result",
          "data": {
            "text/plain": [
              "SGDRegressor(alpha=0.0001, average=False, epsilon=0.1, eta0=0.0001,\n",
              "       fit_intercept=True, l1_ratio=0.15, learning_rate='invscaling',\n",
              "       loss='squared_loss', max_iter=1000, n_iter=None, penalty='l2',\n",
              "       power_t=0.25, random_state=None, shuffle=True, tol=None, verbose=0,\n",
              "       warm_start=False)"
            ]
          },
          "metadata": {
            "tags": []
          },
          "execution_count": 4
        }
      ]
    },
    {
      "metadata": {
        "id": "go_FxJctd4PZ",
        "colab_type": "code",
        "colab": {
          "base_uri": "https://localhost:8080/",
          "height": 34
        },
        "outputId": "b429027c-4f2c-47d1-c9ee-2e4ecf144db9"
      },
      "cell_type": "code",
      "source": [
        "print('theta_0: {:.2f}, theta_1: {:.2f}'.format(lineares_modell.intercept_[0], lineares_modell.coef_[0]))"
      ],
      "execution_count": 5,
      "outputs": [
        {
          "output_type": "stream",
          "text": [
            "theta_0: 0.90, theta_1: 10.92\n"
          ],
          "name": "stdout"
        }
      ]
    },
    {
      "metadata": {
        "id": "h1R1tHpli4RH",
        "colab_type": "code",
        "colab": {
          "base_uri": "https://localhost:8080/",
          "height": 34
        },
        "outputId": "11d9d3ee-14dd-489d-8d27-f9689eaf4231"
      },
      "cell_type": "code",
      "source": [
        "print('Prognose für 44 Quadratmeter: {:.2f}'.format(lineares_modell.predict(44)[0]))"
      ],
      "execution_count": 10,
      "outputs": [
        {
          "output_type": "stream",
          "text": [
            "Prognose für 44 Quadratmeter: 481.46\n"
          ],
          "name": "stdout"
        }
      ]
    },
    {
      "metadata": {
        "id": "pIogdUQfjr46",
        "colab_type": "code",
        "colab": {
          "base_uri": "https://localhost:8080/",
          "height": 34
        },
        "outputId": "97bb6f97-50bb-4ee0-f306-11508fb85afd"
      },
      "cell_type": "code",
      "source": [
        "y_pred = lineares_modell.predict(X)\n",
        "np.sqrt(mean_squared_error(y_pred, y))"
      ],
      "execution_count": 22,
      "outputs": [
        {
          "output_type": "execute_result",
          "data": {
            "text/plain": [
              "47.367855745402196"
            ]
          },
          "metadata": {
            "tags": []
          },
          "execution_count": 22
        }
      ]
    },
    {
      "metadata": {
        "id": "gXXzRqKHkgEX",
        "colab_type": "code",
        "colab": {}
      },
      "cell_type": "code",
      "source": [
        "np.random.seed(1909)\n",
        "k_fold = KFold(n_splits=10)\n",
        "rmses = []\n",
        "for train_idx, test_idx in k_fold.split(X):\n",
        "  X_train, X_test = X[train_idx], X[test_idx]\n",
        "  y_train, y_test = y[train_idx], y[test_idx]\n",
        "    \n",
        "  lineares_modell = SGDRegressor(max_iter=1000, eta0=0.0001)\n",
        "  lineares_modell.fit(X_train, y_train)\n",
        "  \n",
        "  mse = mean_squared_error(lineares_modell.predict(X_test), y_test)\n",
        "  rmses.append(np.sqrt(mse))"
      ],
      "execution_count": 0,
      "outputs": []
    },
    {
      "metadata": {
        "id": "XxfIB2W3khpg",
        "colab_type": "code",
        "colab": {
          "base_uri": "https://localhost:8080/",
          "height": 34
        },
        "outputId": "f7cffd54-3a8d-4ff7-d229-3c1410cc5a2b"
      },
      "cell_type": "code",
      "source": [
        "np.mean(rmses)"
      ],
      "execution_count": 52,
      "outputs": [
        {
          "output_type": "execute_result",
          "data": {
            "text/plain": [
              "44.90253235942539"
            ]
          },
          "metadata": {
            "tags": []
          },
          "execution_count": 52
        }
      ]
    }
  ]
}