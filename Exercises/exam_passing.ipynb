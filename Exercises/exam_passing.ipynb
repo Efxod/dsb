{
  "nbformat": 4,
  "nbformat_minor": 0,
  "metadata": {
    "colab": {
      "name": "exam_passing.ipynb",
      "version": "0.3.2",
      "provenance": [],
      "collapsed_sections": []
    },
    "kernelspec": {
      "name": "python3",
      "display_name": "Python 3"
    }
  },
  "cells": [
    {
      "metadata": {
        "id": "tEFds80eebEe",
        "colab_type": "code",
        "colab": {}
      },
      "cell_type": "code",
      "source": [
        "%matplotlib inline\n",
        "import matplotlib.pyplot as plt\n",
        "import numpy as np\n",
        "import pandas as pd\n",
        "from sklearn.linear_model import SGDClassifier\n",
        "from sklearn.metrics import precision_score\n",
        "from sklearn.model_selection import KFold, train_test_split"
      ],
      "execution_count": 0,
      "outputs": []
    },
    {
      "metadata": {
        "id": "O8oODRV1egql",
        "colab_type": "code",
        "colab": {}
      },
      "cell_type": "code",
      "source": [
        "exam_passing = pd.read_csv('https://github.com/saschaschworm/dsb/raw/master/Data%20Sets/Demos%20and%20Exercises/exam_passing/exam_passing.csv', header=None)\n",
        "X, y = exam_passing[[0, 1]].values, exam_passing[2].values"
      ],
      "execution_count": 0,
      "outputs": []
    },
    {
      "metadata": {
        "id": "DZG6k0DLfsSj",
        "colab_type": "code",
        "colab": {}
      },
      "cell_type": "code",
      "source": [
        "np.random.seed(0)\n",
        "lrm = SGDClassifier(loss='log', eta0=0.001, alpha=0.03, max_iter=1000).fit(X_train, y_train)"
      ],
      "execution_count": 0,
      "outputs": []
    },
    {
      "metadata": {
        "id": "qFEKI75ufska",
        "colab_type": "code",
        "colab": {
          "base_uri": "https://localhost:8080/",
          "height": 51
        },
        "outputId": "b5dbcdea-9a1d-41f1-9709-42d0a1e7864d"
      },
      "cell_type": "code",
      "source": [
        "np.set_printoptions(formatter={'float': lambda x: \"{0:0.9f}\".format(x)})\n",
        "print(lrm.predict_proba([[20, 8]]))\n",
        "print(lrm.predict([[20, 8]]))"
      ],
      "execution_count": 22,
      "outputs": [
        {
          "output_type": "stream",
          "text": [
            "[[0.000000008 0.999999992]]\n",
            "[1]\n"
          ],
          "name": "stdout"
        }
      ]
    },
    {
      "metadata": {
        "id": "MGaYV5UCfCG8",
        "colab_type": "code",
        "colab": {}
      },
      "cell_type": "code",
      "source": [
        "np.random.seed(0)\n",
        "k_fold = KFold(n_splits=10)\n",
        "precisions = []\n",
        "for train_idx, test_idx in k_fold.split(X):\n",
        "    X_train, X_test = X[train_idx], X[test_idx]\n",
        "    y_train, y_test = y[train_idx], y[test_idx]\n",
        "    lrm = SGDClassifier(loss='log', eta0=0.001, alpha=0.03, max_iter=1000).fit(X_train, y_train)\n",
        "    lrm.fit(X_train, y_train)\n",
        "    precision = precision_score(lrm.predict(X_test), y_test)\n",
        "    precisions.append(precision)"
      ],
      "execution_count": 0,
      "outputs": []
    },
    {
      "metadata": {
        "id": "d78b5boofCze",
        "colab_type": "code",
        "colab": {
          "base_uri": "https://localhost:8080/",
          "height": 34
        },
        "outputId": "264ee246-20f0-4ca7-8c1e-ba04fa750469"
      },
      "cell_type": "code",
      "source": [
        "np.mean(precisions)"
      ],
      "execution_count": 24,
      "outputs": [
        {
          "output_type": "execute_result",
          "data": {
            "text/plain": [
              "0.8966666666666665"
            ]
          },
          "metadata": {
            "tags": []
          },
          "execution_count": 24
        }
      ]
    }
  ]
}