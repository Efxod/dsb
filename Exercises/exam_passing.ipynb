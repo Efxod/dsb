{
  "nbformat": 4,
  "nbformat_minor": 0,
  "metadata": {
    "colab": {
      "name": "exam_passing.ipynb",
      "version": "0.3.2",
      "provenance": [],
      "collapsed_sections": []
    },
    "kernelspec": {
      "name": "python3",
      "display_name": "Python 3"
    }
  },
  "cells": [
    {
      "metadata": {
        "id": "PboC8GHAhwBo",
        "colab_type": "text"
      },
      "cell_type": "markdown",
      "source": [
        "# Student Exam Performance"
      ]
    },
    {
      "metadata": {
        "id": "Pw3ihDhuh4R3",
        "colab_type": "text"
      },
      "cell_type": "markdown",
      "source": [
        "## Package Import and Configuration"
      ]
    },
    {
      "metadata": {
        "id": "tEFds80eebEe",
        "colab_type": "code",
        "colab": {}
      },
      "cell_type": "code",
      "source": [
        "import numpy as np\n",
        "import pandas as pd\n",
        "from sklearn.linear_model import SGDClassifier\n",
        "from sklearn.metrics import accuracy_score, precision_score, recall_score, f1_score\n",
        "from sklearn.model_selection import KFold, train_test_split"
      ],
      "execution_count": 0,
      "outputs": []
    },
    {
      "metadata": {
        "id": "SdHlxTv5h97Q",
        "colab_type": "text"
      },
      "cell_type": "markdown",
      "source": [
        "## Data Import and Preprocessing\n"
      ]
    },
    {
      "metadata": {
        "id": "O8oODRV1egql",
        "colab_type": "code",
        "colab": {}
      },
      "cell_type": "code",
      "source": [
        "exam_passing = pd.read_csv('https://github.com/saschaschworm/dsb/raw/master/Data%20Sets/Demos%20and%20Exercises/exam_passing/exam_passing.csv', header=None)\n",
        "exam_passing.columns = ['hours_studied', 'hours_slept', 'passed']"
      ],
      "execution_count": 0,
      "outputs": []
    },
    {
      "metadata": {
        "id": "BYzzP9b8iOSQ",
        "colab_type": "text"
      },
      "cell_type": "markdown",
      "source": [
        "### Data Preview"
      ]
    },
    {
      "metadata": {
        "id": "JKU-YxKmiHzY",
        "colab_type": "code",
        "outputId": "59a3c53e-3bf9-47f1-cd12-3d5005c24316",
        "colab": {
          "base_uri": "https://localhost:8080/",
          "height": 204
        }
      },
      "cell_type": "code",
      "source": [
        "exam_passing.head()"
      ],
      "execution_count": 3,
      "outputs": [
        {
          "output_type": "execute_result",
          "data": {
            "text/html": [
              "<div>\n",
              "<style scoped>\n",
              "    .dataframe tbody tr th:only-of-type {\n",
              "        vertical-align: middle;\n",
              "    }\n",
              "\n",
              "    .dataframe tbody tr th {\n",
              "        vertical-align: top;\n",
              "    }\n",
              "\n",
              "    .dataframe thead th {\n",
              "        text-align: right;\n",
              "    }\n",
              "</style>\n",
              "<table border=\"1\" class=\"dataframe\">\n",
              "  <thead>\n",
              "    <tr style=\"text-align: right;\">\n",
              "      <th></th>\n",
              "      <th>hours_studied</th>\n",
              "      <th>hours_slept</th>\n",
              "      <th>passed</th>\n",
              "    </tr>\n",
              "  </thead>\n",
              "  <tbody>\n",
              "    <tr>\n",
              "      <th>0</th>\n",
              "      <td>4.855064</td>\n",
              "      <td>9.639962</td>\n",
              "      <td>1</td>\n",
              "    </tr>\n",
              "    <tr>\n",
              "      <th>1</th>\n",
              "      <td>8.625440</td>\n",
              "      <td>0.058927</td>\n",
              "      <td>0</td>\n",
              "    </tr>\n",
              "    <tr>\n",
              "      <th>2</th>\n",
              "      <td>3.828192</td>\n",
              "      <td>0.723199</td>\n",
              "      <td>0</td>\n",
              "    </tr>\n",
              "    <tr>\n",
              "      <th>3</th>\n",
              "      <td>7.150955</td>\n",
              "      <td>3.899420</td>\n",
              "      <td>1</td>\n",
              "    </tr>\n",
              "    <tr>\n",
              "      <th>4</th>\n",
              "      <td>6.477900</td>\n",
              "      <td>8.198181</td>\n",
              "      <td>1</td>\n",
              "    </tr>\n",
              "  </tbody>\n",
              "</table>\n",
              "</div>"
            ],
            "text/plain": [
              "   hours_studied  hours_slept  passed\n",
              "0       4.855064     9.639962       1\n",
              "1       8.625440     0.058927       0\n",
              "2       3.828192     0.723199       0\n",
              "3       7.150955     3.899420       1\n",
              "4       6.477900     8.198181       1"
            ]
          },
          "metadata": {
            "tags": []
          },
          "execution_count": 3
        }
      ]
    },
    {
      "metadata": {
        "id": "MLQ4KCx8ip87",
        "colab_type": "text"
      },
      "cell_type": "markdown",
      "source": [
        "### Data Preprocessing\n",
        "\n",
        "There is not data preprocessing step in this example. The only thing we do here is to transform the features to a matrix $X$ and the target variable to a vector $y$."
      ]
    },
    {
      "metadata": {
        "id": "UcBulumCi6J1",
        "colab_type": "code",
        "colab": {}
      },
      "cell_type": "code",
      "source": [
        "X, y = exam_passing[['hours_studied', 'hours_slept']].values, exam_passing['passed'].values"
      ],
      "execution_count": 0,
      "outputs": []
    },
    {
      "metadata": {
        "id": "q5NKtpxBiYfq",
        "colab_type": "text"
      },
      "cell_type": "markdown",
      "source": [
        "## Modelling"
      ]
    },
    {
      "metadata": {
        "id": "QRtzUNy9I_nA",
        "colab_type": "text"
      },
      "cell_type": "markdown",
      "source": [
        "### Training with Logistic Regression with Stochastic Gradient Descent"
      ]
    },
    {
      "metadata": {
        "id": "DZG6k0DLfsSj",
        "colab_type": "code",
        "outputId": "d0ec55b7-523a-4f05-cd5f-3891bd94ff41",
        "colab": {
          "base_uri": "https://localhost:8080/",
          "height": 102
        }
      },
      "cell_type": "code",
      "source": [
        "# Set Seed for \"Deterministic Randomness\".\n",
        "np.random.seed(1909)\n",
        "\n",
        "# Initialize the Logisitc Regression Model.\n",
        "logistic_model = SGDClassifier(loss='log', eta0=0.001, alpha=0.03, max_iter=1000)\n",
        "\n",
        "# Perform the Learning.\n",
        "logistic_model.fit(X, y)"
      ],
      "execution_count": 5,
      "outputs": [
        {
          "output_type": "execute_result",
          "data": {
            "text/plain": [
              "SGDClassifier(alpha=0.03, average=False, class_weight=None, epsilon=0.1,\n",
              "       eta0=0.001, fit_intercept=True, l1_ratio=0.15,\n",
              "       learning_rate='optimal', loss='log', max_iter=1000, n_iter=None,\n",
              "       n_jobs=1, penalty='l2', power_t=0.5, random_state=None,\n",
              "       shuffle=True, tol=None, verbose=0, warm_start=False)"
            ]
          },
          "metadata": {
            "tags": []
          },
          "execution_count": 5
        }
      ]
    },
    {
      "metadata": {
        "id": "cZVGepNRJAMm",
        "colab_type": "text"
      },
      "cell_type": "markdown",
      "source": [
        "### Prediction"
      ]
    },
    {
      "metadata": {
        "id": "KyXLTJugI8Av",
        "colab_type": "code",
        "colab": {}
      },
      "cell_type": "code",
      "source": [
        "# Perform the Prediction for a student has been sleeping 20 hours and has been learning 8 hours.\n",
        "y_pred = logistic_model.predict([[20, 8]])\n",
        "y_pred_probabilities = logistic_model.predict_proba([[20, 8]])"
      ],
      "execution_count": 0,
      "outputs": []
    },
    {
      "metadata": {
        "id": "eHHlrs6wJA5p",
        "colab_type": "text"
      },
      "cell_type": "markdown",
      "source": [
        "### Result"
      ]
    },
    {
      "metadata": {
        "id": "qFEKI75ufska",
        "colab_type": "code",
        "outputId": "056a487a-bbb0-46a6-cfd6-e667c8b53c50",
        "colab": {
          "base_uri": "https://localhost:8080/",
          "height": 85
        }
      },
      "cell_type": "code",
      "source": [
        "print('Exam performance for a student has been sleeping 20 hours and has been learning 8 hours:')\n",
        "\n",
        "# Predict class for a student who has slept 20 hours and has learnt 8 hours.\n",
        "print(f'- Passing: {bool(y_pred[0])}')\n",
        "\n",
        "# Predict class probabilities for a student who has slept 20 hours and has learnt 8 hours.\n",
        "print(f'- Probability on failing: {y_pred_probabilities[0][0] * 100:.2f}%')\n",
        "print(f'- Probabilitiy on passing: {y_pred_probabilities[0][1] * 100:.2f}%')"
      ],
      "execution_count": 7,
      "outputs": [
        {
          "output_type": "stream",
          "text": [
            "Exam performance for a student has been sleeping 20 hours and has been learning 8 hours:\n",
            "- Passing: True\n",
            "- Probability on failing: 0.00%\n",
            "- Probabilitiy on passing: 100.00%\n"
          ],
          "name": "stdout"
        }
      ]
    },
    {
      "metadata": {
        "id": "uyaVfKU1k10r",
        "colab_type": "text"
      },
      "cell_type": "markdown",
      "source": [
        "## Evaluation"
      ]
    },
    {
      "metadata": {
        "id": "acOtTRZXlide",
        "colab_type": "text"
      },
      "cell_type": "markdown",
      "source": [
        "### Holdout Method"
      ]
    },
    {
      "metadata": {
        "id": "F8X58pzFIZ8H",
        "colab_type": "text"
      },
      "cell_type": "markdown",
      "source": [
        "#### Training on Training Set with Logistic Regression with Stochastic Gradient Descent"
      ]
    },
    {
      "metadata": {
        "id": "oWo7uF_4oa_o",
        "colab_type": "code",
        "colab": {
          "base_uri": "https://localhost:8080/",
          "height": 102
        },
        "outputId": "b4251d04-9fa8-4313-cf2c-e3a46e13d8fb"
      },
      "cell_type": "code",
      "source": [
        "# Set Seed for \"Deterministic Randomness\".\n",
        "np.random.seed(1909)\n",
        "\n",
        "# Train-Test-Split with 75% for Training and 25% for Testing\n",
        "X_train, X_test, y_train, y_test = train_test_split(X, y, test_size=0.25)\n",
        "\n",
        "# Perform the Learning\n",
        "logistic_model.fit(X_train, y_train)"
      ],
      "execution_count": 8,
      "outputs": [
        {
          "output_type": "execute_result",
          "data": {
            "text/plain": [
              "SGDClassifier(alpha=0.03, average=False, class_weight=None, epsilon=0.1,\n",
              "       eta0=0.001, fit_intercept=True, l1_ratio=0.15,\n",
              "       learning_rate='optimal', loss='log', max_iter=1000, n_iter=None,\n",
              "       n_jobs=1, penalty='l2', power_t=0.5, random_state=None,\n",
              "       shuffle=True, tol=None, verbose=0, warm_start=False)"
            ]
          },
          "metadata": {
            "tags": []
          },
          "execution_count": 8
        }
      ]
    },
    {
      "metadata": {
        "id": "Wp_veXDMJbe2",
        "colab_type": "text"
      },
      "cell_type": "markdown",
      "source": [
        "#### Prediction on Test Set"
      ]
    },
    {
      "metadata": {
        "id": "cWU3dGnRJazP",
        "colab_type": "code",
        "colab": {}
      },
      "cell_type": "code",
      "source": [
        "# Perform the Prediction on the Test-Set-Features.\n",
        "y_pred = logistic_model.predict(X_test)\n",
        "y_pred_probabilities = logistic_model.predict_proba(X_test)"
      ],
      "execution_count": 0,
      "outputs": []
    },
    {
      "metadata": {
        "id": "woguS-sXIaPp",
        "colab_type": "text"
      },
      "cell_type": "markdown",
      "source": [
        "#### Result"
      ]
    },
    {
      "metadata": {
        "id": "PRxMpL13obB4",
        "colab_type": "code",
        "colab": {
          "base_uri": "https://localhost:8080/",
          "height": 85
        },
        "outputId": "65da328d-97dd-4e0c-efd1-70345b314651"
      },
      "cell_type": "code",
      "source": [
        "# Calculating various performance measures.\n",
        "accuracy = accuracy_score(y_test, y_pred)\n",
        "precision = precision_score(y_test, y_pred)\n",
        "recall = recall_score(y_test, y_pred)\n",
        "f1 = f1_score(y_test, y_pred)\n",
        "\n",
        "print(f'Accuracy: {accuracy * 100:.2f}%')\n",
        "print(f'Precision: {precision * 100:.2f}%')\n",
        "print(f'Recall: {recall * 100:.2f}%')\n",
        "print(f'F1: {f1 * 100:.2f}%')"
      ],
      "execution_count": 10,
      "outputs": [
        {
          "output_type": "stream",
          "text": [
            "Accuracy: 92.00%\n",
            "Precision: 100.00%\n",
            "Recall: 81.82%\n",
            "F1: 90.00%\n"
          ],
          "name": "stdout"
        }
      ]
    },
    {
      "metadata": {
        "id": "oC9gCwBrlohH",
        "colab_type": "text"
      },
      "cell_type": "markdown",
      "source": [
        "### 10-Fold-Cross-Validation"
      ]
    },
    {
      "metadata": {
        "id": "lrR76i0aKvI1",
        "colab_type": "text"
      },
      "cell_type": "markdown",
      "source": [
        "#### Algorithm"
      ]
    },
    {
      "metadata": {
        "id": "sGdW5B-GlouH",
        "colab_type": "code",
        "colab": {}
      },
      "cell_type": "code",
      "source": [
        "# Set seed for \"deterministic randomness\".\n",
        "np.random.seed(1909)\n",
        "\n",
        "# Initialize 10-Fold-Cross-Validation.\n",
        "k_fold = KFold(n_splits=10)\n",
        "\n",
        "# Empty lists for persisting the performances measures calculated in each iteration. \n",
        "accuracies = []\n",
        "precisions = []\n",
        "recalls = []\n",
        "f1s = []\n",
        "\n",
        "for train_idx, test_idx in k_fold.split(X):\n",
        "  # Split dataset into a train and test set.\n",
        "  X_train, X_test = X[train_idx], X[test_idx]\n",
        "  y_train, y_test = y[train_idx], y[test_idx]\n",
        "  \n",
        "  # Run the logistic regression on the current training set.\n",
        "  logistic_model = SGDClassifier(loss='log', eta0=0.001, alpha=0.03, max_iter=1000)\n",
        "  logistic_model.fit(X_train, y_train)\n",
        "  \n",
        "  # Perform the Prediction on the Test-Set-Features.\n",
        "  y_pred = logistic_model.predict(X_test)\n",
        "  y_pred_probabilities = logistic_model.predict_proba(X_test)\n",
        "  \n",
        "  # Calculate the performance measures on the current test set.\n",
        "  accuracy = accuracy_score(y_test, y_pred)\n",
        "  precision = precision_score(y_test, y_pred)\n",
        "  recall = recall_score(y_test, y_pred)\n",
        "  f1 = f1_score(y_test, y_pred)\n",
        "  \n",
        "  # Append to performances measures to lists.\n",
        "  accuracies.append(accuracy)\n",
        "  precisions.append(precision)\n",
        "  recalls.append(recall)\n",
        "  f1s.append(f1)"
      ],
      "execution_count": 0,
      "outputs": []
    },
    {
      "metadata": {
        "id": "pMcINYcmmBkg",
        "colab_type": "text"
      },
      "cell_type": "markdown",
      "source": [
        "#### Result"
      ]
    },
    {
      "metadata": {
        "id": "ko7WmoagLQVx",
        "colab_type": "code",
        "colab": {
          "base_uri": "https://localhost:8080/",
          "height": 85
        },
        "outputId": "850d7608-a770-4930-b258-cfbaa3710e3b"
      },
      "cell_type": "code",
      "source": [
        "print(f'Average accuracy: {np.mean(accuracies) * 100:.2f}%')\n",
        "print(f'Average precision: {np.mean(precisions) * 100:.2f}%')\n",
        "print(f'Average recall: {np.mean(recalls) * 100:.2f}%')\n",
        "print(f'Average F1: {np.mean(f1s) * 100:.2f}%')"
      ],
      "execution_count": 12,
      "outputs": [
        {
          "output_type": "stream",
          "text": [
            "Average accuracy: 88.00%\n",
            "Average precision: 87.44%\n",
            "Average recall: 89.67%\n",
            "Average F1: 87.72%\n"
          ],
          "name": "stdout"
        }
      ]
    }
  ]
}