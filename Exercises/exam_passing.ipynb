{
  "nbformat": 4,
  "nbformat_minor": 0,
  "metadata": {
    "colab": {
      "name": "exam_passing.ipynb",
      "version": "0.3.2",
      "provenance": [],
      "collapsed_sections": []
    },
    "kernelspec": {
      "name": "python3",
      "display_name": "Python 3"
    }
  },
  "cells": [
    {
      "metadata": {
        "id": "PboC8GHAhwBo",
        "colab_type": "text"
      },
      "cell_type": "markdown",
      "source": [
        "# Student Exam Performance"
      ]
    },
    {
      "metadata": {
        "id": "Pw3ihDhuh4R3",
        "colab_type": "text"
      },
      "cell_type": "markdown",
      "source": [
        "## Package Import and Configuration"
      ]
    },
    {
      "metadata": {
        "id": "tEFds80eebEe",
        "colab_type": "code",
        "colab": {}
      },
      "cell_type": "code",
      "source": [
        "%matplotlib inline\n",
        "\n",
        "import matplotlib.pyplot as plt\n",
        "import numpy as np\n",
        "import pandas as pd\n",
        "from sklearn.linear_model import SGDClassifier\n",
        "from sklearn.metrics import precision_score\n",
        "from sklearn.model_selection import KFold, train_test_split"
      ],
      "execution_count": 0,
      "outputs": []
    },
    {
      "metadata": {
        "id": "Ssd3J4bgkHxH",
        "colab_type": "code",
        "colab": {}
      },
      "cell_type": "code",
      "source": [
        "np.set_printoptions(formatter={'float': lambda x: \"{0:0.9f}\".format(x)})"
      ],
      "execution_count": 0,
      "outputs": []
    },
    {
      "metadata": {
        "id": "SdHlxTv5h97Q",
        "colab_type": "text"
      },
      "cell_type": "markdown",
      "source": [
        "## Data Import and Preprocessing\n"
      ]
    },
    {
      "metadata": {
        "id": "O8oODRV1egql",
        "colab_type": "code",
        "colab": {}
      },
      "cell_type": "code",
      "source": [
        "exam_passing = pd.read_csv('https://github.com/saschaschworm/dsb/raw/master/Data%20Sets/Demos%20and%20Exercises/exam_passing/exam_passing.csv', header=None, names=['hours_studied', 'hours_slept', 'passed'])"
      ],
      "execution_count": 0,
      "outputs": []
    },
    {
      "metadata": {
        "id": "BYzzP9b8iOSQ",
        "colab_type": "text"
      },
      "cell_type": "markdown",
      "source": [
        "### Data Preview"
      ]
    },
    {
      "metadata": {
        "id": "JKU-YxKmiHzY",
        "colab_type": "code",
        "colab": {
          "base_uri": "https://localhost:8080/",
          "height": 204
        },
        "outputId": "17461b7a-f97a-4c71-f8df-3d97914d768f"
      },
      "cell_type": "code",
      "source": [
        "exam_passing.head()"
      ],
      "execution_count": 4,
      "outputs": [
        {
          "output_type": "execute_result",
          "data": {
            "text/html": [
              "<div>\n",
              "<style scoped>\n",
              "    .dataframe tbody tr th:only-of-type {\n",
              "        vertical-align: middle;\n",
              "    }\n",
              "\n",
              "    .dataframe tbody tr th {\n",
              "        vertical-align: top;\n",
              "    }\n",
              "\n",
              "    .dataframe thead th {\n",
              "        text-align: right;\n",
              "    }\n",
              "</style>\n",
              "<table border=\"1\" class=\"dataframe\">\n",
              "  <thead>\n",
              "    <tr style=\"text-align: right;\">\n",
              "      <th></th>\n",
              "      <th>hours_studied</th>\n",
              "      <th>hours_slept</th>\n",
              "      <th>passed</th>\n",
              "    </tr>\n",
              "  </thead>\n",
              "  <tbody>\n",
              "    <tr>\n",
              "      <th>0</th>\n",
              "      <td>4.855064</td>\n",
              "      <td>9.639962</td>\n",
              "      <td>1</td>\n",
              "    </tr>\n",
              "    <tr>\n",
              "      <th>1</th>\n",
              "      <td>8.625440</td>\n",
              "      <td>0.058927</td>\n",
              "      <td>0</td>\n",
              "    </tr>\n",
              "    <tr>\n",
              "      <th>2</th>\n",
              "      <td>3.828192</td>\n",
              "      <td>0.723199</td>\n",
              "      <td>0</td>\n",
              "    </tr>\n",
              "    <tr>\n",
              "      <th>3</th>\n",
              "      <td>7.150955</td>\n",
              "      <td>3.899420</td>\n",
              "      <td>1</td>\n",
              "    </tr>\n",
              "    <tr>\n",
              "      <th>4</th>\n",
              "      <td>6.477900</td>\n",
              "      <td>8.198181</td>\n",
              "      <td>1</td>\n",
              "    </tr>\n",
              "  </tbody>\n",
              "</table>\n",
              "</div>"
            ],
            "text/plain": [
              "   hours_studied  hours_slept  passed\n",
              "0       4.855064     9.639962       1\n",
              "1       8.625440     0.058927       0\n",
              "2       3.828192     0.723199       0\n",
              "3       7.150955     3.899420       1\n",
              "4       6.477900     8.198181       1"
            ]
          },
          "metadata": {
            "tags": []
          },
          "execution_count": 4
        }
      ]
    },
    {
      "metadata": {
        "id": "MLQ4KCx8ip87",
        "colab_type": "text"
      },
      "cell_type": "markdown",
      "source": [
        "### Data Preprocessing\n",
        "\n",
        "There is not data preprocessing step in this example. The only thing we do here is to transform the features to a matrix $X$ and the target variable to a vector $y$."
      ]
    },
    {
      "metadata": {
        "id": "UcBulumCi6J1",
        "colab_type": "code",
        "colab": {}
      },
      "cell_type": "code",
      "source": [
        "X, y = exam_passing[['hours_studied', 'hours_slept']].values, exam_passing['passed'].values"
      ],
      "execution_count": 0,
      "outputs": []
    },
    {
      "metadata": {
        "id": "q5NKtpxBiYfq",
        "colab_type": "text"
      },
      "cell_type": "markdown",
      "source": [
        "## Model Training"
      ]
    },
    {
      "metadata": {
        "id": "1I1kCoX5jkky",
        "colab_type": "text"
      },
      "cell_type": "markdown",
      "source": [
        "### Logistic Regression with Stochastic Gradient Descent"
      ]
    },
    {
      "metadata": {
        "id": "DZG6k0DLfsSj",
        "colab_type": "code",
        "colab": {
          "base_uri": "https://localhost:8080/",
          "height": 102
        },
        "outputId": "b3135e6d-5167-4b35-c7db-92c7e660eceb"
      },
      "cell_type": "code",
      "source": [
        "# Set seed for \"deterministic randomness\".\n",
        "np.random.seed(1909)\n",
        "\n",
        "# Initialize the Logisitc Regression Model.\n",
        "logistic_model = SGDClassifier(loss='log', eta0=0.001, alpha=0.03, max_iter=1000)\n",
        "\n",
        "# Perform the learning.\n",
        "logistic_model.fit(X, y)"
      ],
      "execution_count": 6,
      "outputs": [
        {
          "output_type": "execute_result",
          "data": {
            "text/plain": [
              "SGDClassifier(alpha=0.03, average=False, class_weight=None, epsilon=0.1,\n",
              "       eta0=0.001, fit_intercept=True, l1_ratio=0.15,\n",
              "       learning_rate='optimal', loss='log', max_iter=1000, n_iter=None,\n",
              "       n_jobs=1, penalty='l2', power_t=0.5, random_state=None,\n",
              "       shuffle=True, tol=None, verbose=0, warm_start=False)"
            ]
          },
          "metadata": {
            "tags": []
          },
          "execution_count": 6
        }
      ]
    },
    {
      "metadata": {
        "id": "qFEKI75ufska",
        "colab_type": "code",
        "outputId": "735b63b8-ad5a-4538-89f9-d7cb14a0e70e",
        "colab": {
          "base_uri": "https://localhost:8080/",
          "height": 51
        }
      },
      "cell_type": "code",
      "source": [
        "# Predict class probabilities for a student who has slept 20 hours and has learnt 8 hours.\n",
        "print(f'Class probabilities [0, 1]: {logistic_model.predict_proba([[20, 8]])}')\n",
        "\n",
        "# Predict class probabilities for a student who has slept 20 hours and has learnt 8 hours.\n",
        "print(f'Prediction: {logistic_model.predict([[20, 8]])}')"
      ],
      "execution_count": 7,
      "outputs": [
        {
          "output_type": "stream",
          "text": [
            "Class probabilities [0, 1]: [[0.000000003 0.999999997]]\n",
            "Prediction: [1]\n"
          ],
          "name": "stdout"
        }
      ]
    },
    {
      "metadata": {
        "id": "uyaVfKU1k10r",
        "colab_type": "text"
      },
      "cell_type": "markdown",
      "source": [
        "## Evaluation"
      ]
    },
    {
      "metadata": {
        "id": "acOtTRZXlide",
        "colab_type": "text"
      },
      "cell_type": "markdown",
      "source": [
        "### Initialization"
      ]
    },
    {
      "metadata": {
        "id": "MGaYV5UCfCG8",
        "colab_type": "code",
        "colab": {}
      },
      "cell_type": "code",
      "source": [
        "# Initialize 10-Fold-Cross-Validation.\n",
        "k_fold = KFold(n_splits=10)\n",
        "\n",
        "# Empty list for persisting the precisions calculated in each iteration. \n",
        "precisions = []"
      ],
      "execution_count": 0,
      "outputs": []
    },
    {
      "metadata": {
        "id": "oC9gCwBrlohH",
        "colab_type": "text"
      },
      "cell_type": "markdown",
      "source": [
        "### 10-Fold-Cross-Validation"
      ]
    },
    {
      "metadata": {
        "id": "sGdW5B-GlouH",
        "colab_type": "code",
        "colab": {}
      },
      "cell_type": "code",
      "source": [
        "# Set seed for \"deterministic randomness\".\n",
        "np.random.seed(1909)\n",
        "\n",
        "for train_idx, test_idx in k_fold.split(X):\n",
        "  # Split dataset into a train and test set.\n",
        "  X_train, X_test = X[train_idx], X[test_idx]\n",
        "  y_train, y_test = y[train_idx], y[test_idx]\n",
        "  \n",
        "  # Run the logistic regression on the current training set.\n",
        "  logistic_model = SGDClassifier(loss='log', eta0=0.001, alpha=0.03, max_iter=1000)\n",
        "  logistic_model.fit(X_train, y_train)\n",
        "  \n",
        "  # Calculate the precision on the current test set.\n",
        "  precision = precision_score(logistic_model.predict(X_test), y_test)\n",
        "  \n",
        "  # Append to precision to list.\n",
        "  precisions.append(precision)"
      ],
      "execution_count": 0,
      "outputs": []
    },
    {
      "metadata": {
        "id": "pMcINYcmmBkg",
        "colab_type": "text"
      },
      "cell_type": "markdown",
      "source": [
        "### Result"
      ]
    },
    {
      "metadata": {
        "id": "d78b5boofCze",
        "colab_type": "code",
        "outputId": "965f1c8a-bd20-446b-fb94-dcff205cabd7",
        "colab": {
          "base_uri": "https://localhost:8080/",
          "height": 34
        }
      },
      "cell_type": "code",
      "source": [
        "print(f'Average precision: {np.mean(precisions) * 100:.2f}%')"
      ],
      "execution_count": 10,
      "outputs": [
        {
          "output_type": "stream",
          "text": [
            "Average precision: 89.67%\n"
          ],
          "name": "stdout"
        }
      ]
    }
  ]
}