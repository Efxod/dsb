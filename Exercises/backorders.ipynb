{
  "nbformat": 4,
  "nbformat_minor": 0,
  "metadata": {
    "colab": {
      "name": "backorders.ipynb",
      "version": "0.3.2",
      "provenance": [],
      "collapsed_sections": []
    },
    "kernelspec": {
      "name": "python3",
      "display_name": "Python 3"
    }
  },
  "cells": [
    {
      "metadata": {
        "id": "Yd4pEPk-xzAO",
        "colab_type": "text"
      },
      "cell_type": "markdown",
      "source": [
        "# Product Backorders"
      ]
    },
    {
      "metadata": {
        "id": "qyKmsw8Mx147",
        "colab_type": "text"
      },
      "cell_type": "markdown",
      "source": [
        "## Package Import and Configuration"
      ]
    },
    {
      "metadata": {
        "id": "5CN4SOrCxmo6",
        "colab_type": "code",
        "colab": {}
      },
      "cell_type": "code",
      "source": [
        "import numpy as np\n",
        "import pandas as pd\n",
        "\n",
        "from sklearn.ensemble import RandomForestClassifier\n",
        "from sklearn.metrics import accuracy_score, precision_score, recall_score, f1_score\n",
        "from sklearn.model_selection import GridSearchCV, KFold"
      ],
      "execution_count": 0,
      "outputs": []
    },
    {
      "metadata": {
        "id": "Jl_-upe-rss3",
        "colab_type": "code",
        "colab": {}
      },
      "cell_type": "code",
      "source": [
        "# Display all columns in a DataFrame.\n",
        "pd.set_option('display.max_columns', None)"
      ],
      "execution_count": 0,
      "outputs": []
    },
    {
      "metadata": {
        "id": "KYVpcDtXx4WE",
        "colab_type": "text"
      },
      "cell_type": "markdown",
      "source": [
        "## Data Import and Preprocessing"
      ]
    },
    {
      "metadata": {
        "id": "1jdSrEA9x5s6",
        "colab_type": "code",
        "colab": {}
      },
      "cell_type": "code",
      "source": [
        "# Import Dataset with Product Backorders.\n",
        "data = pd.read_csv('https://github.com/saschaschworm/dsb/blob/master/Data%20Sets/Demos%20and%20Exercises/backorders/backorder_sample.csv?raw=true')"
      ],
      "execution_count": 0,
      "outputs": []
    },
    {
      "metadata": {
        "id": "8Flbu-Sjx6Fi",
        "colab_type": "text"
      },
      "cell_type": "markdown",
      "source": [
        "### Data Preview"
      ]
    },
    {
      "metadata": {
        "id": "OS2Y-864x6Vu",
        "colab_type": "code",
        "outputId": "4e055b91-24b3-47f0-b75a-2cd25886bb35",
        "colab": {
          "base_uri": "https://localhost:8080/",
          "height": 224
        }
      },
      "cell_type": "code",
      "source": [
        "data.head()"
      ],
      "execution_count": 4,
      "outputs": [
        {
          "output_type": "execute_result",
          "data": {
            "text/html": [
              "<div>\n",
              "<style scoped>\n",
              "    .dataframe tbody tr th:only-of-type {\n",
              "        vertical-align: middle;\n",
              "    }\n",
              "\n",
              "    .dataframe tbody tr th {\n",
              "        vertical-align: top;\n",
              "    }\n",
              "\n",
              "    .dataframe thead th {\n",
              "        text-align: right;\n",
              "    }\n",
              "</style>\n",
              "<table border=\"1\" class=\"dataframe\">\n",
              "  <thead>\n",
              "    <tr style=\"text-align: right;\">\n",
              "      <th></th>\n",
              "      <th>national_inv</th>\n",
              "      <th>in_transit_qty</th>\n",
              "      <th>forecast_3_month</th>\n",
              "      <th>forecast_6_month</th>\n",
              "      <th>forecast_9_month</th>\n",
              "      <th>sales_1_month</th>\n",
              "      <th>sales_3_month</th>\n",
              "      <th>sales_6_month</th>\n",
              "      <th>sales_9_month</th>\n",
              "      <th>min_bank</th>\n",
              "      <th>potential_issue</th>\n",
              "      <th>pieces_past_due</th>\n",
              "      <th>perf_6_month_avg</th>\n",
              "      <th>perf_12_month_avg</th>\n",
              "      <th>local_bo_qty</th>\n",
              "      <th>deck_risk</th>\n",
              "      <th>oe_constraint</th>\n",
              "      <th>ppap_risk</th>\n",
              "      <th>stop_auto_buy</th>\n",
              "      <th>rev_stop</th>\n",
              "      <th>went_on_backorder</th>\n",
              "    </tr>\n",
              "  </thead>\n",
              "  <tbody>\n",
              "    <tr>\n",
              "      <th>0</th>\n",
              "      <td>0.0</td>\n",
              "      <td>0.0</td>\n",
              "      <td>3.0</td>\n",
              "      <td>4.0</td>\n",
              "      <td>6.0</td>\n",
              "      <td>1.0</td>\n",
              "      <td>1.0</td>\n",
              "      <td>3.0</td>\n",
              "      <td>3.0</td>\n",
              "      <td>0.0</td>\n",
              "      <td>0.0</td>\n",
              "      <td>0.0</td>\n",
              "      <td>0.17</td>\n",
              "      <td>0.33</td>\n",
              "      <td>0.0</td>\n",
              "      <td>0.0</td>\n",
              "      <td>0.0</td>\n",
              "      <td>0.0</td>\n",
              "      <td>1.0</td>\n",
              "      <td>0.0</td>\n",
              "      <td>1.0</td>\n",
              "    </tr>\n",
              "    <tr>\n",
              "      <th>1</th>\n",
              "      <td>17.0</td>\n",
              "      <td>0.0</td>\n",
              "      <td>0.0</td>\n",
              "      <td>0.0</td>\n",
              "      <td>0.0</td>\n",
              "      <td>0.0</td>\n",
              "      <td>0.0</td>\n",
              "      <td>0.0</td>\n",
              "      <td>0.0</td>\n",
              "      <td>0.0</td>\n",
              "      <td>0.0</td>\n",
              "      <td>0.0</td>\n",
              "      <td>0.63</td>\n",
              "      <td>0.72</td>\n",
              "      <td>0.0</td>\n",
              "      <td>0.0</td>\n",
              "      <td>0.0</td>\n",
              "      <td>1.0</td>\n",
              "      <td>1.0</td>\n",
              "      <td>0.0</td>\n",
              "      <td>0.0</td>\n",
              "    </tr>\n",
              "    <tr>\n",
              "      <th>2</th>\n",
              "      <td>605.0</td>\n",
              "      <td>0.0</td>\n",
              "      <td>0.0</td>\n",
              "      <td>0.0</td>\n",
              "      <td>0.0</td>\n",
              "      <td>0.0</td>\n",
              "      <td>0.0</td>\n",
              "      <td>80.0</td>\n",
              "      <td>90.0</td>\n",
              "      <td>0.0</td>\n",
              "      <td>0.0</td>\n",
              "      <td>0.0</td>\n",
              "      <td>0.94</td>\n",
              "      <td>0.95</td>\n",
              "      <td>0.0</td>\n",
              "      <td>0.0</td>\n",
              "      <td>0.0</td>\n",
              "      <td>0.0</td>\n",
              "      <td>1.0</td>\n",
              "      <td>0.0</td>\n",
              "      <td>0.0</td>\n",
              "    </tr>\n",
              "    <tr>\n",
              "      <th>3</th>\n",
              "      <td>18.0</td>\n",
              "      <td>0.0</td>\n",
              "      <td>37.0</td>\n",
              "      <td>72.0</td>\n",
              "      <td>117.0</td>\n",
              "      <td>8.0</td>\n",
              "      <td>30.0</td>\n",
              "      <td>31.0</td>\n",
              "      <td>31.0</td>\n",
              "      <td>10.0</td>\n",
              "      <td>0.0</td>\n",
              "      <td>0.0</td>\n",
              "      <td>0.83</td>\n",
              "      <td>0.86</td>\n",
              "      <td>0.0</td>\n",
              "      <td>0.0</td>\n",
              "      <td>0.0</td>\n",
              "      <td>0.0</td>\n",
              "      <td>1.0</td>\n",
              "      <td>0.0</td>\n",
              "      <td>0.0</td>\n",
              "    </tr>\n",
              "    <tr>\n",
              "      <th>4</th>\n",
              "      <td>0.0</td>\n",
              "      <td>0.0</td>\n",
              "      <td>12.0</td>\n",
              "      <td>18.0</td>\n",
              "      <td>18.0</td>\n",
              "      <td>0.0</td>\n",
              "      <td>0.0</td>\n",
              "      <td>0.0</td>\n",
              "      <td>0.0</td>\n",
              "      <td>1.0</td>\n",
              "      <td>0.0</td>\n",
              "      <td>0.0</td>\n",
              "      <td>0.94</td>\n",
              "      <td>0.95</td>\n",
              "      <td>0.0</td>\n",
              "      <td>0.0</td>\n",
              "      <td>0.0</td>\n",
              "      <td>1.0</td>\n",
              "      <td>1.0</td>\n",
              "      <td>0.0</td>\n",
              "      <td>1.0</td>\n",
              "    </tr>\n",
              "  </tbody>\n",
              "</table>\n",
              "</div>"
            ],
            "text/plain": [
              "   national_inv  in_transit_qty  forecast_3_month  forecast_6_month  \\\n",
              "0           0.0             0.0               3.0               4.0   \n",
              "1          17.0             0.0               0.0               0.0   \n",
              "2         605.0             0.0               0.0               0.0   \n",
              "3          18.0             0.0              37.0              72.0   \n",
              "4           0.0             0.0              12.0              18.0   \n",
              "\n",
              "   forecast_9_month  sales_1_month  sales_3_month  sales_6_month  \\\n",
              "0               6.0            1.0            1.0            3.0   \n",
              "1               0.0            0.0            0.0            0.0   \n",
              "2               0.0            0.0            0.0           80.0   \n",
              "3             117.0            8.0           30.0           31.0   \n",
              "4              18.0            0.0            0.0            0.0   \n",
              "\n",
              "   sales_9_month  min_bank  potential_issue  pieces_past_due  \\\n",
              "0            3.0       0.0              0.0              0.0   \n",
              "1            0.0       0.0              0.0              0.0   \n",
              "2           90.0       0.0              0.0              0.0   \n",
              "3           31.0      10.0              0.0              0.0   \n",
              "4            0.0       1.0              0.0              0.0   \n",
              "\n",
              "   perf_6_month_avg  perf_12_month_avg  local_bo_qty  deck_risk  \\\n",
              "0              0.17               0.33           0.0        0.0   \n",
              "1              0.63               0.72           0.0        0.0   \n",
              "2              0.94               0.95           0.0        0.0   \n",
              "3              0.83               0.86           0.0        0.0   \n",
              "4              0.94               0.95           0.0        0.0   \n",
              "\n",
              "   oe_constraint  ppap_risk  stop_auto_buy  rev_stop  went_on_backorder  \n",
              "0            0.0        0.0            1.0       0.0                1.0  \n",
              "1            0.0        1.0            1.0       0.0                0.0  \n",
              "2            0.0        0.0            1.0       0.0                0.0  \n",
              "3            0.0        0.0            1.0       0.0                0.0  \n",
              "4            0.0        1.0            1.0       0.0                1.0  "
            ]
          },
          "metadata": {
            "tags": []
          },
          "execution_count": 4
        }
      ]
    },
    {
      "metadata": {
        "id": "MmMadS4Gx9hT",
        "colab_type": "text"
      },
      "cell_type": "markdown",
      "source": [
        "### Data Preprocessing\n",
        "\n",
        "There is not data preprocessing step in this example. The only thing we do here is to transform the features to a matrix $X$ and the target variable to a vector $y$."
      ]
    },
    {
      "metadata": {
        "id": "hCum-_N-x94S",
        "colab_type": "code",
        "colab": {}
      },
      "cell_type": "code",
      "source": [
        "X, y = data[data.columns[0:20]].values, data['went_on_backorder'].values"
      ],
      "execution_count": 0,
      "outputs": []
    },
    {
      "metadata": {
        "id": "F9hKFCGhyF_5",
        "colab_type": "text"
      },
      "cell_type": "markdown",
      "source": [
        "## Modelling and Evaluation"
      ]
    },
    {
      "metadata": {
        "id": "rgQ3Q423yIfs",
        "colab_type": "code",
        "colab": {}
      },
      "cell_type": "code",
      "source": [
        "# Set seed for \"deterministic randomness\".\n",
        "np.random.seed(1909)\n",
        "\n",
        "# Initialize 10-Fold-Cross-Validation.\n",
        "k_fold = KFold(n_splits=10)\n",
        "\n",
        "# Initialize Random Forest Model.\n",
        "random_forest = RandomForestClassifier(n_estimators=10, random_state=1909, n_jobs=-1)\n",
        "\n",
        "# Empty lists for persisting the performances measures calculated in each iteration. \n",
        "accuracies = []\n",
        "precisions = []\n",
        "recalls = []\n",
        "f1s = []\n",
        "\n",
        "for train_idx, test_idx in k_fold.split(X):\n",
        "    # Split dataset into a train and test set.\n",
        "    X_train, X_test = X[train_idx], X[test_idx]\n",
        "    y_train, y_test = y[train_idx], y[test_idx]\n",
        "\n",
        "    # Run the Random Forest on the current training set.\n",
        "    random_forest.fit(X_train, y_train)\n",
        "\n",
        "    # Perform the Prediction on the Test-Set-Features.\n",
        "    y_pred = random_forest.predict(X_test)\n",
        "\n",
        "    # Calculate the performance measures on the current test set.\n",
        "    accuracy = accuracy_score(y_test, y_pred)\n",
        "    precision = precision_score(y_test, y_pred)\n",
        "    recall = recall_score(y_test, y_pred)\n",
        "    f1 = f1_score(y_test, y_pred)\n",
        "\n",
        "    # Append to performances measures to lists.\n",
        "    accuracies.append(accuracy)\n",
        "    precisions.append(precision)\n",
        "    recalls.append(recall)\n",
        "    f1s.append(f1)"
      ],
      "execution_count": 0,
      "outputs": []
    },
    {
      "metadata": {
        "id": "Or9BbOwvyMpJ",
        "colab_type": "text"
      },
      "cell_type": "markdown",
      "source": [
        "### Result"
      ]
    },
    {
      "metadata": {
        "id": "dzICHsAYtS4n",
        "colab_type": "code",
        "colab": {
          "base_uri": "https://localhost:8080/",
          "height": 136
        },
        "outputId": "87d8361a-fa38-4381-8cff-2b68ef7c08a1"
      },
      "cell_type": "code",
      "source": [
        "random_forest"
      ],
      "execution_count": 7,
      "outputs": [
        {
          "output_type": "execute_result",
          "data": {
            "text/plain": [
              "RandomForestClassifier(bootstrap=True, class_weight=None, criterion='gini',\n",
              "            max_depth=None, max_features='auto', max_leaf_nodes=None,\n",
              "            min_impurity_decrease=0.0, min_impurity_split=None,\n",
              "            min_samples_leaf=1, min_samples_split=2,\n",
              "            min_weight_fraction_leaf=0.0, n_estimators=10, n_jobs=-1,\n",
              "            oob_score=False, random_state=1909, verbose=0,\n",
              "            warm_start=False)"
            ]
          },
          "metadata": {
            "tags": []
          },
          "execution_count": 7
        }
      ]
    },
    {
      "metadata": {
        "id": "Dhk6-gVNyJ2Y",
        "colab_type": "code",
        "colab": {
          "base_uri": "https://localhost:8080/",
          "height": 85
        },
        "outputId": "5eab7706-cb76-405e-e133-8ee59035359c"
      },
      "cell_type": "code",
      "source": [
        "print(f'Average accuracy: {np.mean(accuracies) * 100:.2f}%')\n",
        "print(f'Average precision: {np.mean(precisions) * 100:.2f}%')\n",
        "print(f'Average recall: {np.mean(recalls) * 100:.2f}%')\n",
        "print(f'Average F1: {np.mean(f1s) * 100:.2f}%')"
      ],
      "execution_count": 8,
      "outputs": [
        {
          "output_type": "stream",
          "text": [
            "Average accuracy: 90.37%\n",
            "Average precision: 89.67%\n",
            "Average recall: 91.26%\n",
            "Average F1: 90.45%\n"
          ],
          "name": "stdout"
        }
      ]
    },
    {
      "metadata": {
        "id": "U7l4m_w0yNpH",
        "colab_type": "text"
      },
      "cell_type": "markdown",
      "source": [
        "## Grid Search Cross Validation"
      ]
    },
    {
      "metadata": {
        "id": "nSfu6SEuyPGd",
        "colab_type": "code",
        "colab": {
          "base_uri": "https://localhost:8080/",
          "height": 289
        },
        "outputId": "6c43c9c8-d42b-4896-a875-c648baf15da4"
      },
      "cell_type": "code",
      "source": [
        "# Initialize a Hyperperameter Grid with various Settings around the default Hyperparameter Settings.\n",
        "param_grid = {'n_estimators': [5, 15, 20], 'min_samples_leaf': [1, 2, 3], 'min_samples_split': [2, 3, 4]}\n",
        "\n",
        "# Create an empty Random Forest Model to be used during Grid Search Cross Validation.\n",
        "gscv_random_forest = RandomForestClassifier()\n",
        "\n",
        "# Initialize a 10-Fold Grid Search Cross Validation.\n",
        "grid_search = GridSearchCV(estimator=gscv_random_forest, param_grid=param_grid, cv=10, n_jobs=-1, verbose=1)\n",
        "\n",
        "# Perform the Grid Search.\n",
        "grid_search.fit(X, y)"
      ],
      "execution_count": 9,
      "outputs": [
        {
          "output_type": "stream",
          "text": [
            "Fitting 10 folds for each of 27 candidates, totalling 270 fits\n"
          ],
          "name": "stdout"
        },
        {
          "output_type": "stream",
          "text": [
            "[Parallel(n_jobs=-1)]: Done  46 tasks      | elapsed:   14.4s\n",
            "[Parallel(n_jobs=-1)]: Done 196 tasks      | elapsed:  1.1min\n",
            "[Parallel(n_jobs=-1)]: Done 270 out of 270 | elapsed:  1.5min finished\n"
          ],
          "name": "stderr"
        },
        {
          "output_type": "execute_result",
          "data": {
            "text/plain": [
              "GridSearchCV(cv=10, error_score='raise',\n",
              "       estimator=RandomForestClassifier(bootstrap=True, class_weight=None, criterion='gini',\n",
              "            max_depth=None, max_features='auto', max_leaf_nodes=None,\n",
              "            min_impurity_decrease=0.0, min_impurity_split=None,\n",
              "            min_samples_leaf=1, min_samples_split=2,\n",
              "            min_weight_fraction_leaf=0.0, n_estimators=10, n_jobs=1,\n",
              "            oob_score=False, random_state=None, verbose=0,\n",
              "            warm_start=False),\n",
              "       fit_params=None, iid=True, n_jobs=-1,\n",
              "       param_grid={'n_estimators': [5, 15, 20], 'min_samples_leaf': [1, 2, 3], 'min_samples_split': [2, 3, 4]},\n",
              "       pre_dispatch='2*n_jobs', refit=True, return_train_score='warn',\n",
              "       scoring=None, verbose=1)"
            ]
          },
          "metadata": {
            "tags": []
          },
          "execution_count": 9
        }
      ]
    },
    {
      "metadata": {
        "id": "JW56sbq-yPvO",
        "colab_type": "text"
      },
      "cell_type": "markdown",
      "source": [
        "### Result"
      ]
    },
    {
      "metadata": {
        "id": "d1U2II38xpmb",
        "colab_type": "code",
        "colab": {
          "base_uri": "https://localhost:8080/",
          "height": 34
        },
        "outputId": "3a2ea5e6-7352-4f65-fe4d-ed70ac5a6a59"
      },
      "cell_type": "code",
      "source": [
        "# Display the best Hyperparameter Set.\n",
        "grid_search.best_params_"
      ],
      "execution_count": 14,
      "outputs": [
        {
          "output_type": "execute_result",
          "data": {
            "text/plain": [
              "{'min_samples_leaf': 1, 'min_samples_split': 2, 'n_estimators': 20}"
            ]
          },
          "metadata": {
            "tags": []
          },
          "execution_count": 14
        }
      ]
    },
    {
      "metadata": {
        "id": "eLkvhOksyQZl",
        "colab_type": "code",
        "colab": {}
      },
      "cell_type": "code",
      "source": [
        "# Retrieve the best estimator from all estimators generated during Grid Search CSV.\n",
        "best_estimator = grid_search.best_estimator_"
      ],
      "execution_count": 0,
      "outputs": []
    },
    {
      "metadata": {
        "id": "c7O19EoIu6Rf",
        "colab_type": "code",
        "colab": {
          "base_uri": "https://localhost:8080/",
          "height": 136
        },
        "outputId": "c778cfd7-2587-44f4-fb60-5336045d36c1"
      },
      "cell_type": "code",
      "source": [
        "best_estimator"
      ],
      "execution_count": 11,
      "outputs": [
        {
          "output_type": "execute_result",
          "data": {
            "text/plain": [
              "RandomForestClassifier(bootstrap=True, class_weight=None, criterion='gini',\n",
              "            max_depth=None, max_features='auto', max_leaf_nodes=None,\n",
              "            min_impurity_decrease=0.0, min_impurity_split=None,\n",
              "            min_samples_leaf=1, min_samples_split=2,\n",
              "            min_weight_fraction_leaf=0.0, n_estimators=20, n_jobs=1,\n",
              "            oob_score=False, random_state=None, verbose=0,\n",
              "            warm_start=False)"
            ]
          },
          "metadata": {
            "tags": []
          },
          "execution_count": 11
        }
      ]
    },
    {
      "metadata": {
        "id": "iKatjAoryXsH",
        "colab_type": "text"
      },
      "cell_type": "markdown",
      "source": [
        "### 10-Fold-Cross-Validation using the Best Estimator"
      ]
    },
    {
      "metadata": {
        "id": "cSyVcQ7vyX4l",
        "colab_type": "code",
        "colab": {}
      },
      "cell_type": "code",
      "source": [
        "# Set seed for \"deterministic randomness\".\n",
        "np.random.seed(1909)\n",
        "\n",
        "# Initialize 10-Fold-Cross-Validation.\n",
        "k_fold = KFold(n_splits=10)\n",
        "\n",
        "# Empty lists for persisting the performances measures calculated in each iteration. \n",
        "accuracies = []\n",
        "precisions = []\n",
        "recalls = []\n",
        "f1s = []\n",
        "\n",
        "for train_idx, test_idx in k_fold.split(X):\n",
        "    # Split dataset into a train and test set.\n",
        "    X_train, X_test = X[train_idx], X[test_idx]\n",
        "    y_train, y_test = y[train_idx], y[test_idx]\n",
        "\n",
        "    # Run the Random Forest with the Best Estimator on the current training set.\n",
        "    best_estimator.fit(X_train, y_train)\n",
        "\n",
        "    # Perform the Prediction on the Test-Set-Features.\n",
        "    y_pred = random_forest.predict(X_test)\n",
        "\n",
        "    # Calculate the performance measures on the current test set.\n",
        "    accuracy = accuracy_score(y_test, y_pred)\n",
        "    precision = precision_score(y_test, y_pred)\n",
        "    recall = recall_score(y_test, y_pred)\n",
        "    f1 = f1_score(y_test, y_pred)\n",
        "\n",
        "    # Append to performances measures to lists.\n",
        "    accuracies.append(accuracy)\n",
        "    precisions.append(precision)\n",
        "    recalls.append(recall)\n",
        "    f1s.append(f1)"
      ],
      "execution_count": 0,
      "outputs": []
    },
    {
      "metadata": {
        "id": "XL-RS9tCvCMh",
        "colab_type": "code",
        "colab": {
          "base_uri": "https://localhost:8080/",
          "height": 85
        },
        "outputId": "da55cd41-a8e2-41b0-f445-b7717aa66770"
      },
      "cell_type": "code",
      "source": [
        "print(f'Average accuracy: {np.mean(accuracies) * 100:.2f}%')\n",
        "print(f'Average precision: {np.mean(precisions) * 100:.2f}%')\n",
        "print(f'Average recall: {np.mean(recalls) * 100:.2f}%')\n",
        "print(f'Average F1: {np.mean(f1s) * 100:.2f}%')"
      ],
      "execution_count": 13,
      "outputs": [
        {
          "output_type": "stream",
          "text": [
            "Average accuracy: 98.31%\n",
            "Average precision: 98.45%\n",
            "Average recall: 98.17%\n",
            "Average F1: 98.31%\n"
          ],
          "name": "stdout"
        }
      ]
    }
  ]
}