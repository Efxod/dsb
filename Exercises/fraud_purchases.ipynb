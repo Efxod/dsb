{
  "nbformat": 4,
  "nbformat_minor": 0,
  "metadata": {
    "colab": {
      "name": "fraud_purchases.ipynb",
      "version": "0.3.2",
      "provenance": [],
      "collapsed_sections": [],
      "include_colab_link": true
    },
    "kernelspec": {
      "name": "python3",
      "display_name": "Python 3"
    }
  },
  "cells": [
    {
      "cell_type": "markdown",
      "metadata": {
        "id": "view-in-github",
        "colab_type": "text"
      },
      "source": [
        "<a href=\"https://colab.research.google.com/github/saschaschworm/dsb/blob/master/Exercises/fraud_purchases.ipynb\" target=\"_parent\"><img src=\"https://colab.research.google.com/assets/colab-badge.svg\" alt=\"Open In Colab\"/></a>"
      ]
    },
    {
      "metadata": {
        "id": "MnHDbeqxYD_v",
        "colab_type": "text"
      },
      "cell_type": "markdown",
      "source": [
        "# Fraud Purchases"
      ]
    },
    {
      "metadata": {
        "id": "I0zBLyFQYICC",
        "colab_type": "text"
      },
      "cell_type": "markdown",
      "source": [
        "## Package Import and Configuration"
      ]
    },
    {
      "metadata": {
        "id": "dNxU94evVv_l",
        "colab_type": "code",
        "colab": {}
      },
      "cell_type": "code",
      "source": [
        "# Magic Commands\n",
        "%matplotlib inline\n",
        "\n",
        "import matplotlib.pyplot as plt\n",
        "import pandas as pd\n",
        "from sklearn.neighbors import LocalOutlierFactor\n",
        "\n",
        "# Matlotlib Configuration\n",
        "plt.style.use('default')"
      ],
      "execution_count": 0,
      "outputs": []
    },
    {
      "metadata": {
        "id": "upL_gHOyYVWW",
        "colab_type": "text"
      },
      "cell_type": "markdown",
      "source": [
        "## Data Import and Preprocessing"
      ]
    },
    {
      "metadata": {
        "id": "1lCjx61OV-7f",
        "colab_type": "code",
        "colab": {}
      },
      "cell_type": "code",
      "source": [
        "data = pd.read_csv('https://raw.githubusercontent.com/saschaschworm/dsb/master/Data%20Sets/Demos%20and%20Exercises/fraud_transactions/fraud_transactions.csv')"
      ],
      "execution_count": 0,
      "outputs": []
    },
    {
      "metadata": {
        "id": "vQar8hIcYX5d",
        "colab_type": "text"
      },
      "cell_type": "markdown",
      "source": [
        "### Data Preview"
      ]
    },
    {
      "metadata": {
        "id": "3swua5XLWCI7",
        "colab_type": "code",
        "colab": {
          "base_uri": "https://localhost:8080/",
          "height": 204
        },
        "outputId": "38008367-c91d-423a-f6f9-0fd2534a8a01"
      },
      "cell_type": "code",
      "source": [
        "data.head()"
      ],
      "execution_count": 3,
      "outputs": [
        {
          "output_type": "execute_result",
          "data": {
            "text/html": [
              "<div>\n",
              "<style scoped>\n",
              "    .dataframe tbody tr th:only-of-type {\n",
              "        vertical-align: middle;\n",
              "    }\n",
              "\n",
              "    .dataframe tbody tr th {\n",
              "        vertical-align: top;\n",
              "    }\n",
              "\n",
              "    .dataframe thead th {\n",
              "        text-align: right;\n",
              "    }\n",
              "</style>\n",
              "<table border=\"1\" class=\"dataframe\">\n",
              "  <thead>\n",
              "    <tr style=\"text-align: right;\">\n",
              "      <th></th>\n",
              "      <th>mean_prch_5w</th>\n",
              "      <th>prch_this_w</th>\n",
              "    </tr>\n",
              "  </thead>\n",
              "  <tbody>\n",
              "    <tr>\n",
              "      <th>0</th>\n",
              "      <td>82</td>\n",
              "      <td>74</td>\n",
              "    </tr>\n",
              "    <tr>\n",
              "      <th>1</th>\n",
              "      <td>81</td>\n",
              "      <td>84</td>\n",
              "    </tr>\n",
              "    <tr>\n",
              "      <th>2</th>\n",
              "      <td>80</td>\n",
              "      <td>127</td>\n",
              "    </tr>\n",
              "    <tr>\n",
              "      <th>3</th>\n",
              "      <td>87</td>\n",
              "      <td>80</td>\n",
              "    </tr>\n",
              "    <tr>\n",
              "      <th>4</th>\n",
              "      <td>72</td>\n",
              "      <td>75</td>\n",
              "    </tr>\n",
              "  </tbody>\n",
              "</table>\n",
              "</div>"
            ],
            "text/plain": [
              "   mean_prch_5w  prch_this_w\n",
              "0            82           74\n",
              "1            81           84\n",
              "2            80          127\n",
              "3            87           80\n",
              "4            72           75"
            ]
          },
          "metadata": {
            "tags": []
          },
          "execution_count": 3
        }
      ]
    },
    {
      "metadata": {
        "id": "5XBwn7xpYa_P",
        "colab_type": "text"
      },
      "cell_type": "markdown",
      "source": [
        "### Data Visualization"
      ]
    },
    {
      "metadata": {
        "id": "mzdW-2EIWDBA",
        "colab_type": "code",
        "colab": {
          "base_uri": "https://localhost:8080/",
          "height": 307
        },
        "outputId": "d57a541b-fc93-4a8e-b921-45104fd8ce26"
      },
      "cell_type": "code",
      "source": [
        "fig, ax = plt.subplots(figsize=(6, 3))\n",
        "\n",
        "ax.scatter(data['mean_prch_5w'], data['prch_this_w'])\n",
        "\n",
        "ax.set_xlabel('Mean Purchases Last 5 Weeks')\n",
        "ax.set_ylabel('Purchases Current Week')\n",
        "ax.grid()\n",
        "\n",
        "plt.tight_layout()\n",
        "plt.show()"
      ],
      "execution_count": 4,
      "outputs": [
        {
          "output_type": "display_data",
          "data": {
            "image/png": "[encoded data removed]",
            "text/plain": [
              "<matplotlib.figure.Figure at 0x7f7b82bca710>"
            ]
          },
          "metadata": {
            "tags": []
          }
        }
      ]
    },
    {
      "metadata": {
        "id": "5MRut4CQYdAZ",
        "colab_type": "text"
      },
      "cell_type": "markdown",
      "source": [
        "### Data Preprocessing"
      ]
    },
    {
      "metadata": {
        "id": "rjn2yyzaWwoJ",
        "colab_type": "code",
        "colab": {}
      },
      "cell_type": "code",
      "source": [
        "X = data[['mean_prch_5w', 'prch_this_w']].values"
      ],
      "execution_count": 0,
      "outputs": []
    },
    {
      "metadata": {
        "id": "rUknTftVYfWi",
        "colab_type": "text"
      },
      "cell_type": "markdown",
      "source": [
        "## Local Outlier Factor"
      ]
    },
    {
      "metadata": {
        "id": "JVZ7lKRkWMuB",
        "colab_type": "code",
        "colab": {}
      },
      "cell_type": "code",
      "source": [
        "lof = LocalOutlierFactor(n_neighbors=20)\n",
        "classification = lof.fit_predict(X)"
      ],
      "execution_count": 0,
      "outputs": []
    },
    {
      "metadata": {
        "id": "ljSEVCdrYqSY",
        "colab_type": "text"
      },
      "cell_type": "markdown",
      "source": [
        "### Result"
      ]
    },
    {
      "metadata": {
        "id": "H287Fd4KW1yX",
        "colab_type": "code",
        "colab": {}
      },
      "cell_type": "code",
      "source": [
        "data['anomaly'] = classification\n",
        "normal_instances = data[data['anomaly'] == 1]\n",
        "abnormal_instances = data[data['anomaly'] == -1]"
      ],
      "execution_count": 0,
      "outputs": []
    },
    {
      "metadata": {
        "id": "-43EwUaYY-C4",
        "colab_type": "code",
        "colab": {
          "base_uri": "https://localhost:8080/",
          "height": 204
        },
        "outputId": "0f290842-8234-4c7e-e0fc-2f62d4e5cb25"
      },
      "cell_type": "code",
      "source": [
        "normal_instances.head()"
      ],
      "execution_count": 8,
      "outputs": [
        {
          "output_type": "execute_result",
          "data": {
            "text/html": [
              "<div>\n",
              "<style scoped>\n",
              "    .dataframe tbody tr th:only-of-type {\n",
              "        vertical-align: middle;\n",
              "    }\n",
              "\n",
              "    .dataframe tbody tr th {\n",
              "        vertical-align: top;\n",
              "    }\n",
              "\n",
              "    .dataframe thead th {\n",
              "        text-align: right;\n",
              "    }\n",
              "</style>\n",
              "<table border=\"1\" class=\"dataframe\">\n",
              "  <thead>\n",
              "    <tr style=\"text-align: right;\">\n",
              "      <th></th>\n",
              "      <th>mean_prch_5w</th>\n",
              "      <th>prch_this_w</th>\n",
              "      <th>anomaly</th>\n",
              "    </tr>\n",
              "  </thead>\n",
              "  <tbody>\n",
              "    <tr>\n",
              "      <th>0</th>\n",
              "      <td>82</td>\n",
              "      <td>74</td>\n",
              "      <td>1</td>\n",
              "    </tr>\n",
              "    <tr>\n",
              "      <th>1</th>\n",
              "      <td>81</td>\n",
              "      <td>84</td>\n",
              "      <td>1</td>\n",
              "    </tr>\n",
              "    <tr>\n",
              "      <th>3</th>\n",
              "      <td>87</td>\n",
              "      <td>80</td>\n",
              "      <td>1</td>\n",
              "    </tr>\n",
              "    <tr>\n",
              "      <th>4</th>\n",
              "      <td>72</td>\n",
              "      <td>75</td>\n",
              "      <td>1</td>\n",
              "    </tr>\n",
              "    <tr>\n",
              "      <th>5</th>\n",
              "      <td>81</td>\n",
              "      <td>76</td>\n",
              "      <td>1</td>\n",
              "    </tr>\n",
              "  </tbody>\n",
              "</table>\n",
              "</div>"
            ],
            "text/plain": [
              "   mean_prch_5w  prch_this_w  anomaly\n",
              "0            82           74        1\n",
              "1            81           84        1\n",
              "3            87           80        1\n",
              "4            72           75        1\n",
              "5            81           76        1"
            ]
          },
          "metadata": {
            "tags": []
          },
          "execution_count": 8
        }
      ]
    },
    {
      "metadata": {
        "id": "YhTy4kYHZAnT",
        "colab_type": "code",
        "colab": {
          "base_uri": "https://localhost:8080/",
          "height": 204
        },
        "outputId": "1d87311a-1267-43f8-b3fd-8b5e3eb5fb50"
      },
      "cell_type": "code",
      "source": [
        "abnormal_instances.head()"
      ],
      "execution_count": 9,
      "outputs": [
        {
          "output_type": "execute_result",
          "data": {
            "text/html": [
              "<div>\n",
              "<style scoped>\n",
              "    .dataframe tbody tr th:only-of-type {\n",
              "        vertical-align: middle;\n",
              "    }\n",
              "\n",
              "    .dataframe tbody tr th {\n",
              "        vertical-align: top;\n",
              "    }\n",
              "\n",
              "    .dataframe thead th {\n",
              "        text-align: right;\n",
              "    }\n",
              "</style>\n",
              "<table border=\"1\" class=\"dataframe\">\n",
              "  <thead>\n",
              "    <tr style=\"text-align: right;\">\n",
              "      <th></th>\n",
              "      <th>mean_prch_5w</th>\n",
              "      <th>prch_this_w</th>\n",
              "      <th>anomaly</th>\n",
              "    </tr>\n",
              "  </thead>\n",
              "  <tbody>\n",
              "    <tr>\n",
              "      <th>2</th>\n",
              "      <td>80</td>\n",
              "      <td>127</td>\n",
              "      <td>-1</td>\n",
              "    </tr>\n",
              "    <tr>\n",
              "      <th>14</th>\n",
              "      <td>66</td>\n",
              "      <td>80</td>\n",
              "      <td>-1</td>\n",
              "    </tr>\n",
              "    <tr>\n",
              "      <th>15</th>\n",
              "      <td>82</td>\n",
              "      <td>107</td>\n",
              "      <td>-1</td>\n",
              "    </tr>\n",
              "    <tr>\n",
              "      <th>16</th>\n",
              "      <td>79</td>\n",
              "      <td>116</td>\n",
              "      <td>-1</td>\n",
              "    </tr>\n",
              "    <tr>\n",
              "      <th>22</th>\n",
              "      <td>89</td>\n",
              "      <td>95</td>\n",
              "      <td>-1</td>\n",
              "    </tr>\n",
              "  </tbody>\n",
              "</table>\n",
              "</div>"
            ],
            "text/plain": [
              "    mean_prch_5w  prch_this_w  anomaly\n",
              "2             80          127       -1\n",
              "14            66           80       -1\n",
              "15            82          107       -1\n",
              "16            79          116       -1\n",
              "22            89           95       -1"
            ]
          },
          "metadata": {
            "tags": []
          },
          "execution_count": 9
        }
      ]
    },
    {
      "metadata": {
        "id": "mY_T9rJZZCiO",
        "colab_type": "text"
      },
      "cell_type": "markdown",
      "source": [
        "### Visualization"
      ]
    },
    {
      "metadata": {
        "id": "XAaoQQaSW3zV",
        "colab_type": "code",
        "colab": {
          "base_uri": "https://localhost:8080/",
          "height": 307
        },
        "outputId": "1cc16eec-4601-4069-a041-99913641c00b"
      },
      "cell_type": "code",
      "source": [
        "fig, ax = plt.subplots(figsize=(6, 3))\n",
        "\n",
        "ax.scatter(normal_instances['mean_prch_5w'], normal_instances['prch_this_w'], label='Normal Instances')\n",
        "ax.scatter(abnormal_instances['mean_prch_5w'], abnormal_instances['prch_this_w'], label='Abnormal Instances')\n",
        "\n",
        "\n",
        "ax.set_xlabel('Mean Purchases Last 5 Weeks')\n",
        "ax.set_ylabel('Purchases Current Week')\n",
        "ax.grid()\n",
        "ax.legend()\n",
        "\n",
        "plt.tight_layout()\n",
        "plt.show()"
      ],
      "execution_count": 10,
      "outputs": [
        {
          "output_type": "display_data",
          "data": {
            "image/png": "[encoded data removed]",
            "text/plain": [
              "<matplotlib.figure.Figure at 0x7f7b82bcacc0>"
            ]
          },
          "metadata": {
            "tags": []
          }
        }
      ]
    }
  ]
}